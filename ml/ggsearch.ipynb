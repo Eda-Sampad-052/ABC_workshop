{
 "cells": [
  {
   "cell_type": "markdown",
   "metadata": {},
   "source": [
    "# read requirements.md"
   ]
  },
  {
   "cell_type": "code",
   "execution_count": null,
   "metadata": {},
   "outputs": [],
   "source": [
    "from selenium.webdriver.chrome.service import Service\n",
    "import pandas as pd\n",
    "from selenium import webdriver \n",
    "from selenium.webdriver.support.ui import WebDriverWait\n",
    "from selenium.webdriver.support import expected_conditions as EC\n",
    "from selenium.webdriver.common.by import By\n",
    "from selenium.webdriver.common.keys import Keys\n",
    "from selenium.webdriver.chrome.options import Options\n",
    "import time\n",
    "import keyboard"
   ]
  },
  {
   "cell_type": "code",
   "execution_count": 49,
   "metadata": {},
   "outputs": [],
   "source": [
    "options = Options()\n",
    "options.add_argument('--headless')  # Run Chrome in headless mode\n",
    "options.add_argument('--disable-gpu')  # Disable GPU\n",
    "options.add_argument('--no-sandbox')  # Bypass OS security model\n",
    "options.add_argument('--disable-dev-shm-usage')  # Overcome limited resource problems"
   ]
  },
  {
   "cell_type": "code",
   "execution_count": null,
   "metadata": {},
   "outputs": [],
   "source": [
    "# Load the CSV file into a DataFrame with the first row as the header\n",
    "df = pd.read_csv('sports_car(uds).csv', usecols=['Car Make', 'Car Model', 'Year'])\n",
    "\n",
    "# Convert the DataFrame to a list of tuples\n",
    "search_terms = df.apply(lambda row: f\"{row['Car Make']}, {row['Car Model']}, {row['Year']}\", axis=1).tolist()\n",
    "search_index = 0\n",
    "\n",
    "# Set up Chrome options\n",
    "options = webdriver.ChromeOptions()\n",
    "options.add_argument(\"user-data-dir=C:/Users/hp/AppData/Local/Google/Chrome/User Data\")\n",
    "\n",
    "# Specify the path to the ChromeDriver executable\n",
    "service = Service(executable_path=\"E:/New folder (3)/chromedriver.exe\")\n",
    "\n",
    "# Initialize the WebDriver with the specified service and options\n",
    "driver = webdriver.Chrome(service=service, options=options)"
   ]
  },
  {
   "cell_type": "code",
   "execution_count": null,
   "metadata": {},
   "outputs": [],
   "source": [
    "def search_next_term():\n",
    "    global search_index\n",
    "    if search_index < len(search_terms):\n",
    "        search_term = search_terms[search_index]\n",
    "        search_index += 1\n",
    "\n",
    "        # Open Google\n",
    "        driver.get('https://www.google.com/')\n",
    "        \n",
    "        # Wait for the search box to be present\n",
    "        wait = WebDriverWait(driver, 20)  # Increased timeout to 20 seconds\n",
    "        search_box = wait.until(EC.presence_of_element_located((By.NAME, 'q')))\n",
    "        \n",
    "        # Enter the search term in the search box and press Enter\n",
    "        search_box.send_keys(search_term)\n",
    "        search_box.send_keys(Keys.RETURN)\n",
    "        try:\n",
    "            # Wait until the search results are loaded\n",
    "            wait.until(EC.presence_of_element_located((By.ID, 'search')))\n",
    "        except TimeoutException:\n",
    "            print(f\"Timeout while waiting for search results for term: {search_term}\")\n",
    "        finally:\n",
    "            # Wait for the backtick key \"`\" to be pressed before proceeding\n",
    "            print(f\"Press ` to search for the next term: {search_term}\")\n",
    "            while True:\n",
    "                if keyboard.is_pressed('`'):\n",
    "                    break\n",
    "                time.sleep(0.1)\n",
    "            # Open a new window and search for the next term\n",
    "            driver.execute_script(\"window.open('');\")\n",
    "            driver.switch_to.window(driver.window_handles[-1])\n",
    "            search_next_term()\n",
    "\n",
    "# Call the function to start the search\n",
    "search_next_term()"
   ]
  },
  {
   "cell_type": "code",
   "execution_count": null,
   "metadata": {},
   "outputs": [],
   "source": [
    "# Close the WebDriver session\n",
    "driver.quit()"
   ]
  }
 ],
 "metadata": {
  "kernelspec": {
   "display_name": "Python 3",
   "language": "python",
   "name": "python3"
  },
  "language_info": {
   "codemirror_mode": {
    "name": "ipython",
    "version": 3
   },
   "file_extension": ".py",
   "mimetype": "text/x-python",
   "name": "python",
   "nbconvert_exporter": "python",
   "pygments_lexer": "ipython3",
   "version": "3.12.8"
  }
 },
 "nbformat": 4,
 "nbformat_minor": 2
}
